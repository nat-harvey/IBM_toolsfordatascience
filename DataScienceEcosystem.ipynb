{
 "cells": [
  {
   "cell_type": "markdown",
   "id": "91ff8ffa-1c84-4a2f-a83d-1813caebdc6f",
   "metadata": {},
   "source": [
    "# Data Science Tools and Ecosystem"
   ]
  },
  {
   "cell_type": "markdown",
   "id": "a43fc4c5-e383-4dac-a56e-0119240f422f",
   "metadata": {},
   "source": [
    "## In this notebook, Data Science Tools and Ecosystem are summarised."
   ]
  },
  {
   "cell_type": "markdown",
   "id": "3bbfdf43-8238-4e5b-87ba-5664839be9a9",
   "metadata": {},
   "source": [
    "## Author\n",
    "Nathaniel"
   ]
  },
  {
   "cell_type": "markdown",
   "id": "708f76ca-4654-4429-999c-52bda2ff517b",
   "metadata": {},
   "source": [
    "**Objectives:**\n",
    "- List popular languages for Data Science.\n",
    "- List in a table Data Science Tools.\n",
    "- Create code to multiple and add numbers.\n",
    "- Create code to change minutes into hours."
   ]
  },
  {
   "cell_type": "markdown",
   "id": "b4611261-ecdc-4a9b-87c6-1f2bd82bbab6",
   "metadata": {},
   "source": [
    "### Some of the commonly used libraries used by Data Scientists include: \n",
    "1. Pandas\n",
    "2. NumPy\n",
    "3. Scikit-Learn\n",
    "4. Matplotlib\n",
    "5. TensorFlow/Keras\n",
    "   "
   ]
  },
  {
   "cell_type": "markdown",
   "id": "cfabb60f-d5d5-4776-ad23-94541429ccdf",
   "metadata": {},
   "source": [
    "|Data Science Tools|\n",
    "|------------------|\n",
    "|Jupyter Notebook  |\n",
    "|RStudio           |\n",
    "|Apache Zeppelin   |"
   ]
  },
  {
   "cell_type": "markdown",
   "id": "c6efbbac-bbdd-4f52-a118-60b11ea94290",
   "metadata": {},
   "source": [
    "### Below are a few examples of evaluating arithmetic expressions in Python"
   ]
  },
  {
   "cell_type": "code",
   "execution_count": 8,
   "id": "28edebe0-9519-41ea-a173-b4e869c5eeac",
   "metadata": {},
   "outputs": [
    {
     "data": {
      "text/plain": [
       "17"
      ]
     },
     "execution_count": 8,
     "metadata": {},
     "output_type": "execute_result"
    }
   ],
   "source": [
    "# This is a simple arithmetic expression to multiply then add integers\n",
    "\n",
    "(3*4)+5"
   ]
  },
  {
   "cell_type": "code",
   "execution_count": 10,
   "id": "cf99d27f-b006-42ca-9764-417e801e7bee",
   "metadata": {},
   "outputs": [
    {
     "data": {
      "text/plain": [
       "3.3333333333333335"
      ]
     },
     "execution_count": 10,
     "metadata": {},
     "output_type": "execute_result"
    }
   ],
   "source": [
    "# This will convert 200 minutes to hours by dividing by 60\n",
    "\n",
    "200/60"
   ]
  },
  {
   "cell_type": "markdown",
   "id": "adcd69ab-112b-4dc1-9638-4d4954d81d50",
   "metadata": {},
   "source": []
  }
 ],
 "metadata": {
  "kernelspec": {
   "display_name": "Python 3 (ipykernel)",
   "language": "python",
   "name": "python3"
  },
  "language_info": {
   "codemirror_mode": {
    "name": "ipython",
    "version": 3
   },
   "file_extension": ".py",
   "mimetype": "text/x-python",
   "name": "python",
   "nbconvert_exporter": "python",
   "pygments_lexer": "ipython3",
   "version": "3.12.7"
  }
 },
 "nbformat": 4,
 "nbformat_minor": 5
}
